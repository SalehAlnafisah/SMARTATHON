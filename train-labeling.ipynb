{
 "cells": [
  {
   "cell_type": "code",
   "execution_count": 11,
   "metadata": {},
   "outputs": [],
   "source": [
    "import cv2\n",
    "import pandas as pd"
   ]
  },
  {
   "cell_type": "code",
   "execution_count": 72,
   "metadata": {},
   "outputs": [
    {
     "name": "stdout",
     "output_type": "stream",
     "text": [
      "Line 1: 7,ac97490f13140fc1bfe613ec69301b34.jpg,BAD_BILLBOARD,814,674,148,71\n"
     ]
    }
   ],
   "source": [
    "def plot_one_box(x, img, color=None, label=None, line_thickness=None, Inverted=False):\n",
    "# Plots one bounding box on image img\n",
    " tl = line_thickness or 2 # line thickness\n",
    " c1, c2 = (int(x[0]), int(x[1])), (int(x[2]), int(x[3]))\n",
    " cv2.rectangle(img, c1, c2, color, thickness=tl)\n",
    " if label:\n",
    "  tf = tl # font thickness\n",
    "  t_size = cv2.getTextSize(label, 0, fontScale=tl / 2, thickness=tf)[0]\n",
    " if Inverted == True:\n",
    "  c1 = c2\n",
    "  c2 = c1[0] + t_size[0], c1[1] - t_size[1] - 3\n",
    " else:\n",
    "  c2 = c1[0] + t_size[0], c1[1] - t_size[1] - 3\n",
    "  cv2.rectangle(img, c1, c2, color, -1) # filled\n",
    "\n",
    "  cv2.putText(img, label, (c1[0], c1[1] - 2), 0, tl / 2, [225, 255, 255],\n",
    "  thickness=tf,\n",
    "  lineType=cv2.LINE_AA,\n",
    ")\n",
    "\n",
    "# Using readlines()\n",
    "file1 = open(r\"C:\\Users\\sinafisah\\Desktop\\Smartathon\\theme1\\dataset\\dataset\\train.csv\", 'r')\n",
    "Lines = file1.readlines()\n",
    "\n",
    "count = 0\n",
    "# Strips the newline character\n",
    "for line in Lines:\n",
    " if count == 0:\n",
    "    count += 1\n",
    " continue\n",
    "\n",
    "file_id_path = line.split(',')[2]\n",
    "# open image in cv2\n",
    "img = cv2.imread(r\"C:\\Users\\sinafisah\\Desktop\\Smartathon\\theme1\\dataset\\dataset\\images\\9d100eb428edef6626df335ebf4a9def.jpg\")\n",
    "h, w, c = img.shape\n",
    "cat = line.split(',')[3]\n",
    "xmax = int(line.split(',')[3]) * 2\n",
    "xmin = int(line.split(',')[4]) * 2\n",
    "ymax = int(line.split(',')[5]) * 2\n",
    "ymin = int(line.split(',')[6]) * 2\n",
    "# plot the box\n",
    "plot_one_box([xmin, ymin, xmax, ymax], img, color=(0, 255, 0), label=cat, line_thickness=2)\n",
    "# save the image\n",
    "# you might need to create the folder \"drawn\" first!\n",
    "cv2.imwrite(r\"C:\\Users\\sinafisah\\Desktop\\Smartathon\\theme1\\dataset\\dataset\\drawn\\dd.jpg\"  ,img)\n",
    "print(\"Line {}: {}\".format(count, line.strip()))\n",
    "count += 1"
   ]
  }
 ],
 "metadata": {
  "kernelspec": {
   "display_name": "Python 3.9.13 ('base')",
   "language": "python",
   "name": "python3"
  },
  "language_info": {
   "codemirror_mode": {
    "name": "ipython",
    "version": 3
   },
   "file_extension": ".py",
   "mimetype": "text/x-python",
   "name": "python",
   "nbconvert_exporter": "python",
   "pygments_lexer": "ipython3",
   "version": "3.9.13"
  },
  "orig_nbformat": 4,
  "vscode": {
   "interpreter": {
    "hash": "13f71c154a79ab4f225ccb08fe890669fe2f81da9eb6235a69bec1836a195b36"
   }
  }
 },
 "nbformat": 4,
 "nbformat_minor": 2
}
